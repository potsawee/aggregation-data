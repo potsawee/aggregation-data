{
 "cells": [
  {
   "cell_type": "code",
   "execution_count": 1,
   "id": "612fa11a-1393-4202-94e7-7766a0841eed",
   "metadata": {},
   "outputs": [],
   "source": [
    "import random\n",
    "import json"
   ]
  },
  {
   "cell_type": "markdown",
   "id": "3f78b7f1-12f7-43a4-b255-653a694fef11",
   "metadata": {},
   "source": [
    "# LLM judge stats"
   ]
  },
  {
   "cell_type": "code",
   "execution_count": 80,
   "id": "cc05b880-c235-4ba8-8e14-9f696bfd9398",
   "metadata": {},
   "outputs": [],
   "source": [
    "def read_jsonl(file_path):\n",
    "    data = []\n",
    "    # Reading the jsonl file\n",
    "    with open(file_path, 'r', encoding='utf-8') as f:\n",
    "        for line in f:\n",
    "            # Parse the line as JSON and add it to the list\n",
    "            data.append(json.loads(line))\n",
    "    return data"
   ]
  },
  {
   "cell_type": "code",
   "execution_count": 81,
   "id": "5ce1171f-36fb-48d4-b488-35e03b9c01e9",
   "metadata": {},
   "outputs": [],
   "source": [
    "def print_stat(path):\n",
    "    data = read_jsonl(path)\n",
    "    print(path)\n",
    "    print(\"len:\", len(data))\n",
    "    correct, total = 0, 0\n",
    "    for x in data:\n",
    "        for y in x['outputs']:\n",
    "            if y['pred'] == y['ref']:\n",
    "                correct += 1\n",
    "            total += 1\n",
    "    print(\"Acc: {:.2f}\".format(correct / total * 100))"
   ]
  },
  {
   "cell_type": "code",
   "execution_count": 82,
   "id": "186ac0ed-aab3-4b34-842f-8093d496dc89",
   "metadata": {},
   "outputs": [
    {
     "name": "stdout",
     "output_type": "stream",
     "text": [
      "../outputs/halueval/Meta-Llama-3-70B-Instruct.jsonl\n",
      "len: 10000\n",
      "Acc: 79.75\n"
     ]
    }
   ],
   "source": [
    "print_stat(\"../outputs/halueval/Meta-Llama-3-70B-Instruct.jsonl\")"
   ]
  },
  {
   "cell_type": "code",
   "execution_count": 83,
   "id": "fe733bab-621c-4a8e-a36c-05f4dcb8fb9b",
   "metadata": {},
   "outputs": [
    {
     "name": "stdout",
     "output_type": "stream",
     "text": [
      "../outputs/halueval/Qwen2-72B-Instruct.jsonl\n",
      "len: 10000\n",
      "Acc: 77.50\n"
     ]
    }
   ],
   "source": [
    "print_stat(\"../outputs/halueval/Qwen2-72B-Instruct.jsonl\")"
   ]
  },
  {
   "cell_type": "code",
   "execution_count": 84,
   "id": "4bdc5200-93bc-45c2-a80e-14009ae7a3d4",
   "metadata": {},
   "outputs": [
    {
     "name": "stdout",
     "output_type": "stream",
     "text": [
      "../outputs/halueval/Athene-70B.jsonl\n",
      "len: 10000\n",
      "Acc: 80.24\n"
     ]
    }
   ],
   "source": [
    "print_stat(\"../outputs/halueval/Athene-70B.jsonl\")"
   ]
  },
  {
   "cell_type": "code",
   "execution_count": 85,
   "id": "d6face10-7f21-44e1-aa2d-d96bcf8d6c96",
   "metadata": {},
   "outputs": [
    {
     "name": "stdout",
     "output_type": "stream",
     "text": [
      "../outputs/halueval/dolphin-2.5-mixtral-8x7b.jsonl\n",
      "len: 10000\n",
      "Acc: 50.20\n"
     ]
    }
   ],
   "source": [
    "print_stat(\"../outputs/halueval/dolphin-2.5-mixtral-8x7b.jsonl\")"
   ]
  },
  {
   "cell_type": "code",
   "execution_count": 86,
   "id": "fe445ca5-b8fa-4f47-998b-a1769a33a777",
   "metadata": {},
   "outputs": [
    {
     "name": "stdout",
     "output_type": "stream",
     "text": [
      "../outputs/halueval/Mixtral-8x7B-Instruct-v0.1.jsonl\n",
      "len: 10000\n",
      "Acc: 78.05\n"
     ]
    }
   ],
   "source": [
    "print_stat(\"../outputs/halueval/Mixtral-8x7B-Instruct-v0.1.jsonl\")"
   ]
  },
  {
   "cell_type": "code",
   "execution_count": 87,
   "id": "46828c44-e2f4-41e2-a943-c79b0724416c",
   "metadata": {},
   "outputs": [
    {
     "name": "stdout",
     "output_type": "stream",
     "text": [
      "../outputs/halueval/Hermes-3-Llama-3.1-70B.jsonl\n",
      "len: 10000\n",
      "Acc: 79.09\n"
     ]
    }
   ],
   "source": [
    "print_stat(\"../outputs/halueval/Hermes-3-Llama-3.1-70B.jsonl\")"
   ]
  },
  {
   "cell_type": "markdown",
   "id": "ea8e84c7-6b30-4042-8df8-675ffdb11fcb",
   "metadata": {},
   "source": [
    "# Processing the outputs (Unrolling)"
   ]
  },
  {
   "cell_type": "code",
   "execution_count": 97,
   "id": "79caa6aa-c00b-4670-94a3-96da71011323",
   "metadata": {},
   "outputs": [],
   "source": [
    "def unrolling(path):\n",
    "    unrolled = []\n",
    "    data = read_jsonl(path)\n",
    "    for x in data:\n",
    "        o0 = x['outputs'][0]\n",
    "        o1 = x['outputs'][1]\n",
    "        output0 = {\n",
    "            'i': f\"{x['i']}\",\n",
    "            'llm_judge': x['llm_judge'],\n",
    "            'dialogue_history': x['dialogue_history'],\n",
    "            'response': o0['response'],\n",
    "            'ref': o0['ref'],\n",
    "            'pred': o0['pred'],\n",
    "            'logit_yes': o0['logit_yes'],\n",
    "            'logit_no': o0['logit_no'],\n",
    "        }\n",
    "        output1 = {\n",
    "            'i': f\"{x['i']}\",\n",
    "            'llm_judge': x['llm_judge'],\n",
    "            'dialogue_history': x['dialogue_history'],\n",
    "            'response': o1['response'],\n",
    "            'ref': o1['ref'],\n",
    "            'pred': o1['pred'],\n",
    "            'logit_yes': o1['logit_yes'],\n",
    "            'logit_no': o1['logit_no'],\n",
    "        }\n",
    "        unrolled.append(output0)\n",
    "        unrolled.append(output1)\n",
    "    print(\"len(unrolled)\", len(unrolled))\n",
    "    yy = path.split(\"/\")\n",
    "    yy.insert(-1, \"processed\")\n",
    "    processed_path = \"/\".join(yy)\n",
    "    with open(processed_path, 'w') as f:\n",
    "        json.dump(unrolled, f, indent=4)"
   ]
  },
  {
   "cell_type": "code",
   "execution_count": 98,
   "id": "b1d37693-76be-46a6-9439-aa435512214e",
   "metadata": {},
   "outputs": [
    {
     "name": "stdout",
     "output_type": "stream",
     "text": [
      "len(unrolled) 20000\n"
     ]
    }
   ],
   "source": [
    "unrolling(\"../outputs/halueval/Meta-Llama-3-70B-Instruct.jsonl\")"
   ]
  },
  {
   "cell_type": "code",
   "execution_count": 99,
   "id": "a9158964-ade1-48be-acf9-47a5a67187a1",
   "metadata": {},
   "outputs": [
    {
     "name": "stdout",
     "output_type": "stream",
     "text": [
      "len(unrolled) 20000\n"
     ]
    }
   ],
   "source": [
    "unrolling(\"../outputs/halueval/Hermes-3-Llama-3.1-70B.jsonl\")"
   ]
  },
  {
   "cell_type": "code",
   "execution_count": 100,
   "id": "7889a1e0-ad11-4c80-89a0-139983579f36",
   "metadata": {},
   "outputs": [
    {
     "name": "stdout",
     "output_type": "stream",
     "text": [
      "len(unrolled) 20000\n"
     ]
    }
   ],
   "source": [
    "unrolling(\"../outputs/halueval/Athene-70B.jsonl\")"
   ]
  },
  {
   "cell_type": "code",
   "execution_count": 101,
   "id": "6b6e535e-dc3d-451a-9e5b-ad744716a1e2",
   "metadata": {},
   "outputs": [
    {
     "name": "stdout",
     "output_type": "stream",
     "text": [
      "len(unrolled) 20000\n"
     ]
    }
   ],
   "source": [
    "unrolling(\"../outputs/halueval/dolphin-2.5-mixtral-8x7b.jsonl\")"
   ]
  },
  {
   "cell_type": "code",
   "execution_count": 102,
   "id": "e0ed6360-06c5-4732-a41c-f292d3bc2185",
   "metadata": {},
   "outputs": [
    {
     "name": "stdout",
     "output_type": "stream",
     "text": [
      "len(unrolled) 20000\n"
     ]
    }
   ],
   "source": [
    "unrolling(\"../outputs/halueval/Qwen2-72B-Instruct.jsonl\")"
   ]
  },
  {
   "cell_type": "code",
   "execution_count": 103,
   "id": "1a2f227f-82e3-46db-bbb4-f009e4fb23be",
   "metadata": {},
   "outputs": [
    {
     "name": "stdout",
     "output_type": "stream",
     "text": [
      "len(unrolled) 20000\n"
     ]
    }
   ],
   "source": [
    "unrolling(\"../outputs/halueval/Mixtral-8x7B-Instruct-v0.1.jsonl\")"
   ]
  },
  {
   "cell_type": "code",
   "execution_count": null,
   "id": "93f97703-914a-4af3-b050-aa4ad23825ff",
   "metadata": {},
   "outputs": [],
   "source": []
  }
 ],
 "metadata": {
  "kernelspec": {
   "display_name": "Python 3 (ipykernel)",
   "language": "python",
   "name": "python3"
  },
  "language_info": {
   "codemirror_mode": {
    "name": "ipython",
    "version": 3
   },
   "file_extension": ".py",
   "mimetype": "text/x-python",
   "name": "python",
   "nbconvert_exporter": "python",
   "pygments_lexer": "ipython3",
   "version": "3.9.19"
  }
 },
 "nbformat": 4,
 "nbformat_minor": 5
}
