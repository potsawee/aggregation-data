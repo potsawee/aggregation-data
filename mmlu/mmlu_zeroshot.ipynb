{
 "cells": [
  {
   "cell_type": "markdown",
   "id": "8f5a15d6-4687-4c75-8e85-ade7d16302bb",
   "metadata": {},
   "source": [
    "# Output Statistics"
   ]
  },
  {
   "cell_type": "code",
   "execution_count": 1,
   "id": "5ec6ca1b-ab69-46e8-a82d-47ea054ea290",
   "metadata": {},
   "outputs": [],
   "source": [
    "import json"
   ]
  },
  {
   "cell_type": "code",
   "execution_count": 2,
   "id": "d82d2f84-a1a6-42d7-8d4a-0f90848d16be",
   "metadata": {},
   "outputs": [],
   "source": [
    "def read_jsonl(file_path):\n",
    "    data = []\n",
    "    # Reading the jsonl file\n",
    "    with open(file_path, 'r', encoding='utf-8') as f:\n",
    "        for line in f:\n",
    "            # Parse the line as JSON and add it to the list\n",
    "            try:\n",
    "                data.append(json.loads(line))\n",
    "            except:\n",
    "                print(line)\n",
    "                raise Exception()\n",
    "    return data"
   ]
  },
  {
   "cell_type": "code",
   "execution_count": 3,
   "id": "afb6dc62-28fe-4db5-b53f-1c77ed192eda",
   "metadata": {},
   "outputs": [],
   "source": [
    "def print_stat(path):\n",
    "    data = read_jsonl(path)\n",
    "    print(path)\n",
    "    print(\"len:\", len(data))\n",
    "    # 2-way acc\n",
    "    correct, total = 0, 0\n",
    "    for x in data:\n",
    "        if x['pred'] == x['label']:\n",
    "            correct += 1\n",
    "        total +=1\n",
    "    print(\"2-way acc: {:.2f}\".format(correct / total * 100))"
   ]
  },
  {
   "cell_type": "code",
   "execution_count": 26,
   "id": "4e539c49-6101-43c3-8b08-6e6f5546ac24",
   "metadata": {},
   "outputs": [
    {
     "name": "stdout",
     "output_type": "stream",
     "text": [
      "../outputs/mmlu/Meta-Llama-3-8B.jsonl\n",
      "len: 14042\n",
      "2-way acc: 46.09\n"
     ]
    }
   ],
   "source": [
    "print_stat(\"../outputs/mmlu/Meta-Llama-3-8B.jsonl\")"
   ]
  },
  {
   "cell_type": "code",
   "execution_count": 27,
   "id": "d5abdd81-7c8d-4098-a8f1-4b451e3411b7",
   "metadata": {},
   "outputs": [
    {
     "name": "stdout",
     "output_type": "stream",
     "text": [
      "../outputs/mmlu/Mistral-7B-Instruct-v0.2.jsonl\n",
      "len: 14042\n",
      "2-way acc: 56.32\n"
     ]
    }
   ],
   "source": [
    "print_stat(\"../outputs/mmlu/Mistral-7B-Instruct-v0.2.jsonl\")"
   ]
  },
  {
   "cell_type": "code",
   "execution_count": 28,
   "id": "ebee9854-8d1b-4c27-967b-0737f929f3ff",
   "metadata": {},
   "outputs": [
    {
     "name": "stdout",
     "output_type": "stream",
     "text": [
      "../outputs/mmlu/StableBeluga-7B.jsonl\n",
      "len: 14042\n",
      "2-way acc: 50.57\n"
     ]
    }
   ],
   "source": [
    "print_stat(\"../outputs/mmlu/StableBeluga-7B.jsonl\")"
   ]
  },
  {
   "cell_type": "code",
   "execution_count": 29,
   "id": "8471b350-cad0-4d6f-a6ff-10d19f209f3c",
   "metadata": {},
   "outputs": [
    {
     "name": "stdout",
     "output_type": "stream",
     "text": [
      "../outputs/mmlu/zephyr-7b-beta.jsonl\n",
      "len: 14042\n",
      "2-way acc: 56.88\n"
     ]
    }
   ],
   "source": [
    "print_stat(\"../outputs/mmlu/zephyr-7b-beta.jsonl\")"
   ]
  },
  {
   "cell_type": "code",
   "execution_count": 30,
   "id": "eb89a27d-2524-4c70-b6f8-cdceab22aed5",
   "metadata": {},
   "outputs": [
    {
     "name": "stdout",
     "output_type": "stream",
     "text": [
      "../outputs/mmlu/Starling-LM-7B-alpha.jsonl\n",
      "len: 14042\n",
      "2-way acc: 59.77\n"
     ]
    }
   ],
   "source": [
    "print_stat(\"../outputs/mmlu/Starling-LM-7B-alpha.jsonl\")"
   ]
  },
  {
   "cell_type": "code",
   "execution_count": 43,
   "id": "3fc763f0-4f69-4ccd-a830-f03b0636fe77",
   "metadata": {},
   "outputs": [
    {
     "name": "stdout",
     "output_type": "stream",
     "text": [
      "../outputs/mmlu/Meta-Llama-3-8B-Instruct.jsonl\n",
      "len: 14042\n",
      "2-way acc: 44.03\n"
     ]
    }
   ],
   "source": [
    "print_stat(\"../outputs/mmlu/Meta-Llama-3-8B-Instruct.jsonl\")"
   ]
  },
  {
   "cell_type": "code",
   "execution_count": 32,
   "id": "34ea534e-c0f7-4ebe-9976-d3b192f99690",
   "metadata": {},
   "outputs": [
    {
     "name": "stdout",
     "output_type": "stream",
     "text": [
      "../outputs/mmlu/Mistral-7B-OpenOrca.jsonl\n",
      "len: 14042\n",
      "2-way acc: 57.93\n"
     ]
    }
   ],
   "source": [
    "print_stat(\"../outputs/mmlu/Mistral-7B-OpenOrca.jsonl\")"
   ]
  },
  {
   "cell_type": "code",
   "execution_count": 33,
   "id": "8f2829ac-aba2-4277-b0f1-2e946d43f4f2",
   "metadata": {},
   "outputs": [
    {
     "name": "stdout",
     "output_type": "stream",
     "text": [
      "../outputs/mmlu/dolphin-2.1-mistral-7b.jsonl\n",
      "len: 14042\n",
      "2-way acc: 35.13\n"
     ]
    }
   ],
   "source": [
    "print_stat(\"../outputs/mmlu/dolphin-2.1-mistral-7b.jsonl\")"
   ]
  },
  {
   "cell_type": "code",
   "execution_count": 34,
   "id": "2edd86dc-f05b-4b22-a9f9-cb503ea39b83",
   "metadata": {},
   "outputs": [
    {
     "name": "stdout",
     "output_type": "stream",
     "text": [
      "../outputs/mmlu/Mistral-7B-Instruct-v0.1.jsonl\n",
      "len: 14042\n",
      "2-way acc: 51.18\n"
     ]
    }
   ],
   "source": [
    "print_stat(\"../outputs/mmlu/Mistral-7B-Instruct-v0.1.jsonl\")"
   ]
  },
  {
   "cell_type": "code",
   "execution_count": 35,
   "id": "a1edac9d-6126-4dc8-935d-40c0be979e46",
   "metadata": {},
   "outputs": [
    {
     "name": "stdout",
     "output_type": "stream",
     "text": [
      "../outputs/mmlu/OpenHermes-2-Mistral-7B.jsonl\n",
      "len: 14042\n",
      "2-way acc: 57.78\n"
     ]
    }
   ],
   "source": [
    "print_stat(\"../outputs/mmlu/OpenHermes-2-Mistral-7B.jsonl\")"
   ]
  },
  {
   "cell_type": "code",
   "execution_count": 36,
   "id": "3ed5761b-50f0-4954-85e6-996c221ac6f5",
   "metadata": {},
   "outputs": [
    {
     "name": "stdout",
     "output_type": "stream",
     "text": [
      "../outputs/mmlu/OpenHermes-2.5-Mistral-7B.jsonl\n",
      "len: 14042\n",
      "2-way acc: 58.94\n"
     ]
    }
   ],
   "source": [
    "print_stat(\"../outputs/mmlu/OpenHermes-2.5-Mistral-7B.jsonl\")"
   ]
  },
  {
   "cell_type": "code",
   "execution_count": 37,
   "id": "af99efc7-3482-4f03-b80d-282f28e09e6b",
   "metadata": {},
   "outputs": [
    {
     "name": "stdout",
     "output_type": "stream",
     "text": [
      "../outputs/mmlu/Meta-Llama-3-70B-Instruct.jsonl\n",
      "len: 14042\n",
      "2-way acc: 77.76\n"
     ]
    }
   ],
   "source": [
    "print_stat(\"../outputs/mmlu/Meta-Llama-3-70B-Instruct.jsonl\")"
   ]
  },
  {
   "cell_type": "code",
   "execution_count": 38,
   "id": "07563e6a-e4e7-45b0-8aa9-26383ea5605c",
   "metadata": {},
   "outputs": [
    {
     "name": "stdout",
     "output_type": "stream",
     "text": [
      "../outputs/mmlu/Mixtral-8x7B-Instruct-v0.1.jsonl\n",
      "len: 14042\n",
      "2-way acc: 65.82\n"
     ]
    }
   ],
   "source": [
    "print_stat(\"../outputs/mmlu/Mixtral-8x7B-Instruct-v0.1.jsonl\")"
   ]
  },
  {
   "cell_type": "code",
   "execution_count": 39,
   "id": "019c2005-6205-4cb4-a0bc-a711223462e5",
   "metadata": {},
   "outputs": [
    {
     "name": "stdout",
     "output_type": "stream",
     "text": [
      "../outputs/mmlu/Qwen2-72B-Instruct.jsonl\n",
      "len: 14042\n",
      "2-way acc: 79.02\n"
     ]
    }
   ],
   "source": [
    "print_stat(\"../outputs/mmlu/Qwen2-72B-Instruct.jsonl\")"
   ]
  },
  {
   "cell_type": "code",
   "execution_count": 40,
   "id": "0d4f0349-f5f2-4474-be05-6c0d35686ae8",
   "metadata": {},
   "outputs": [
    {
     "name": "stdout",
     "output_type": "stream",
     "text": [
      "../outputs/mmlu/Hermes-3-Llama-3.1-70B.jsonl\n",
      "len: 14042\n",
      "2-way acc: 75.70\n"
     ]
    }
   ],
   "source": [
    "print_stat(\"../outputs/mmlu/Hermes-3-Llama-3.1-70B.jsonl\")"
   ]
  },
  {
   "cell_type": "code",
   "execution_count": 41,
   "id": "86897fe9-e37c-4f85-af6f-f0517ec5b115",
   "metadata": {},
   "outputs": [
    {
     "name": "stdout",
     "output_type": "stream",
     "text": [
      "../outputs/mmlu/Athene-70B.jsonl\n",
      "len: 14042\n",
      "2-way acc: 76.71\n"
     ]
    }
   ],
   "source": [
    "print_stat(\"../outputs/mmlu/Athene-70B.jsonl\")"
   ]
  },
  {
   "cell_type": "code",
   "execution_count": 42,
   "id": "d81b1e13-1702-4d7c-b1f0-32ccff0cbfc1",
   "metadata": {},
   "outputs": [
    {
     "name": "stdout",
     "output_type": "stream",
     "text": [
      "../outputs/mmlu/dolphin-2.5-mixtral-8x7b.jsonl\n",
      "len: 14042\n",
      "2-way acc: 48.20\n"
     ]
    }
   ],
   "source": [
    "print_stat(\"../outputs/mmlu/dolphin-2.5-mixtral-8x7b.jsonl\")"
   ]
  }
 ],
 "metadata": {
  "kernelspec": {
   "display_name": "Python 3 (ipykernel)",
   "language": "python",
   "name": "python3"
  },
  "language_info": {
   "codemirror_mode": {
    "name": "ipython",
    "version": 3
   },
   "file_extension": ".py",
   "mimetype": "text/x-python",
   "name": "python",
   "nbconvert_exporter": "python",
   "pygments_lexer": "ipython3",
   "version": "3.9.19"
  }
 },
 "nbformat": 4,
 "nbformat_minor": 5
}
