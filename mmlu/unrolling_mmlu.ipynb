{
 "cells": [
  {
   "cell_type": "code",
   "execution_count": 28,
   "id": "efdef55e-2a98-4ff0-8c70-41faf4be7759",
   "metadata": {},
   "outputs": [],
   "source": [
    "from datasets import load_dataset\n",
    "from tqdm import tqdm\n",
    "import random\n",
    "import json"
   ]
  },
  {
   "cell_type": "code",
   "execution_count": 29,
   "id": "d11b17ee-b8cd-4759-b4ae-1100c0a9c541",
   "metadata": {},
   "outputs": [],
   "source": [
    "data = load_dataset(\"cais/mmlu\", \"all\", split='test')\n",
    "assert len(data) == 14042"
   ]
  },
  {
   "cell_type": "code",
   "execution_count": 30,
   "id": "d83bd580-899b-4fcf-a62b-e4eab13e1f29",
   "metadata": {},
   "outputs": [
    {
     "name": "stderr",
     "output_type": "stream",
     "text": [
      "100%|████████████████████████████████████████████████████████████████████████████████████████████████████████████████████████████████████████████████████████████████████████| 14042/14042 [00:00<00:00, 15626.88it/s]\n"
     ]
    }
   ],
   "source": [
    "unrolled = []\n",
    "for i in tqdm(range(len(data))):\n",
    "    x = data[i]\n",
    "    choice_c = x['answer'] # correct\n",
    "    choice_i_arr = [j_ for j_ in range(4) if j_ != choice_c]\n",
    "    choice_i = random.choice(choice_i_arr)\n",
    "\n",
    "    # correct answer\n",
    "    ex_c = {\n",
    "        'i': f\"{i}-correct\",\n",
    "        'subject': x['subject'],\n",
    "        'question': x['question'],\n",
    "        'choices': x['choices'],\n",
    "        'selected_choice': choice_c,\n",
    "        'answer': x['choices'][choice_c],\n",
    "        'label': 'correct'\n",
    "    }\n",
    "    ex_i = {\n",
    "        'i': f\"{i}-incorrect\",\n",
    "        'subject': x['subject'],\n",
    "        'question': x['question'],\n",
    "        'choices': x['choices'],\n",
    "        'selected_choice': choice_i,\n",
    "        'answer': x['choices'][choice_i],\n",
    "        'label': 'incorrect'\n",
    "    }\n",
    "    unrolled.append(ex_c)\n",
    "    unrolled.append(ex_i)"
   ]
  },
  {
   "cell_type": "code",
   "execution_count": 31,
   "id": "0e6ec9e3-90e6-472f-8899-ea2608fd658e",
   "metadata": {},
   "outputs": [
    {
     "data": {
      "text/plain": [
       "28084"
      ]
     },
     "execution_count": 31,
     "metadata": {},
     "output_type": "execute_result"
    }
   ],
   "source": [
    "len(unrolled)"
   ]
  },
  {
   "cell_type": "code",
   "execution_count": 32,
   "id": "3f8b0bf8-fb21-4fae-99e2-4333b1209172",
   "metadata": {},
   "outputs": [],
   "source": [
    "with open(\"./mmlu-unrolled.json\", \"w\") as f:\n",
    "    json.dump(unrolled, f, indent=4)"
   ]
  },
  {
   "cell_type": "code",
   "execution_count": null,
   "id": "924e4e98-618b-44d7-abc0-b454726cdae8",
   "metadata": {},
   "outputs": [],
   "source": []
  }
 ],
 "metadata": {
  "kernelspec": {
   "display_name": "Python 3 (ipykernel)",
   "language": "python",
   "name": "python3"
  },
  "language_info": {
   "codemirror_mode": {
    "name": "ipython",
    "version": 3
   },
   "file_extension": ".py",
   "mimetype": "text/x-python",
   "name": "python",
   "nbconvert_exporter": "python",
   "pygments_lexer": "ipython3",
   "version": "3.9.19"
  }
 },
 "nbformat": 4,
 "nbformat_minor": 5
}
